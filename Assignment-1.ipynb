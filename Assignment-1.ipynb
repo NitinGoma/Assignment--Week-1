{
 "cells": [
  {
   "cell_type": "markdown",
   "id": "f4bca7b6-eecb-4c9d-ab1b-85d95d501121",
   "metadata": {},
   "source": [
    "Assignment- Week 1"
   ]
  },
  {
   "cell_type": "raw",
   "id": "5fff7eaa-a6dd-427a-b168-ac310fc55546",
   "metadata": {},
   "source": [
    "Q1. Create one variable containing following type of data:\n",
    "(i) string\n",
    "(ii) list\n",
    "(iii) float\n",
    "(iv) tuple"
   ]
  },
  {
   "cell_type": "code",
   "execution_count": 6,
   "id": "219192a4-00db-4b87-bbf6-d8ad423df204",
   "metadata": {},
   "outputs": [
    {
     "name": "stdout",
     "output_type": "stream",
     "text": [
      "Hello World\n"
     ]
    }
   ],
   "source": [
    "Pwskills = \"Hello World\"\n",
    "print(Pwskills)"
   ]
  },
  {
   "cell_type": "code",
   "execution_count": 11,
   "id": "ca50d9ab-3f50-4b91-ac5c-4703dd6f98ce",
   "metadata": {},
   "outputs": [
    {
     "name": "stdout",
     "output_type": "stream",
     "text": [
      "[1, 3, 4, 6, 7, 7, 1.2, 'hello', True]\n"
     ]
    }
   ],
   "source": [
    "L = [1,3,4,6,7,7, 1.2, 'hello', True]\n",
    "print(L)"
   ]
  },
  {
   "cell_type": "code",
   "execution_count": 9,
   "id": "e116f970-b49e-4bc8-9e6c-fa3d8ddfc88c",
   "metadata": {},
   "outputs": [
    {
     "name": "stdout",
     "output_type": "stream",
     "text": [
      "10.2\n"
     ]
    }
   ],
   "source": [
    "number = 10.2\n",
    "print(number)"
   ]
  },
  {
   "cell_type": "code",
   "execution_count": 17,
   "id": "52a13fc4-6065-4363-a9cf-81950bb6fb77",
   "metadata": {},
   "outputs": [
    {
     "name": "stdout",
     "output_type": "stream",
     "text": [
      "(1, 3, 4, 6, 7, 7, 1.2, 'hello', True)\n"
     ]
    }
   ],
   "source": [
    "T = (1,3,4,6,7,7, 1.2, 'hello', True)\n",
    "print(T)"
   ]
  },
  {
   "cell_type": "raw",
   "id": "76b541da-ea64-406b-af32-a8d00622b977",
   "metadata": {},
   "source": [
    "Q2. Given are some following variables containing data:\n",
    "(i) var1 = ‘ ‘ ------ Str\n",
    "(ii) var2 = ‘[ DS , ML , Python]’ --------- Str\n",
    "(iii) var3 = [ ‘DS’ , ’ML’ , ‘Python’ ] ------- list\n",
    "(iv) var4 = 1. ------ float"
   ]
  },
  {
   "cell_type": "code",
   "execution_count": 16,
   "id": "dfb3d00c-7784-4828-abeb-fffbcc0766bf",
   "metadata": {},
   "outputs": [
    {
     "name": "stdout",
     "output_type": "stream",
     "text": [
      "<class 'str'>\n",
      "<class 'str'>\n",
      "<class 'list'>\n",
      "<class 'float'>\n"
     ]
    }
   ],
   "source": [
    "var1 = ''\n",
    "var2 = '[ DS , ML , Python]'\n",
    "var3 = [ 'DS' , 'ML' , 'Python' ]\n",
    "var4 = 1.\n",
    "print(type(var1))\n",
    "print(type(var2))\n",
    "print(type(var3))\n",
    "print(type(var4))"
   ]
  },
  {
   "cell_type": "raw",
   "id": "4cc051ba-a36b-48d8-a0f5-ea72332a5f72",
   "metadata": {},
   "source": [
    "Q3. Explain the use of the following operators using an example:\n",
    "(i) /\n",
    "(ii) %\n",
    "(iii) //\n",
    "(iv) **"
   ]
  },
  {
   "cell_type": "code",
   "execution_count": 27,
   "id": "98a40997-fdba-4911-bcae-5ae459ed54a8",
   "metadata": {},
   "outputs": [
    {
     "data": {
      "text/plain": [
       "20.0"
      ]
     },
     "execution_count": 27,
     "metadata": {},
     "output_type": "execute_result"
    }
   ],
   "source": [
    "#The forward slash (/) operator is used to divide two operands. The result of the division is a floating-point number.\n",
    "100/5"
   ]
  },
  {
   "cell_type": "code",
   "execution_count": 28,
   "id": "ecf4b6f7-03b9-4d28-a402-59ec22be0ce5",
   "metadata": {},
   "outputs": [
    {
     "data": {
      "text/plain": [
       "0"
      ]
     },
     "execution_count": 28,
     "metadata": {},
     "output_type": "execute_result"
    }
   ],
   "source": [
    "#The percent (%) operator is used to find the remainder of a division operation. The remainder is the part of the dividend that is not divisible by the divisor.\n",
    "100%5"
   ]
  },
  {
   "cell_type": "code",
   "execution_count": 38,
   "id": "6f7f0317-3c97-48c8-9fd6-4dd054a10d0b",
   "metadata": {},
   "outputs": [
    {
     "data": {
      "text/plain": [
       "20"
      ]
     },
     "execution_count": 38,
     "metadata": {},
     "output_type": "execute_result"
    }
   ],
   "source": [
    "#The double forward slash (//) operator is used to perform floor division. Floor division rounds down the result of the division operation to the nearest integer.\n",
    "100//5"
   ]
  },
  {
   "cell_type": "code",
   "execution_count": 31,
   "id": "eab90058-ea1c-4e62-8197-5e61994341f3",
   "metadata": {},
   "outputs": [
    {
     "data": {
      "text/plain": [
       "8"
      ]
     },
     "execution_count": 31,
     "metadata": {},
     "output_type": "execute_result"
    }
   ],
   "source": [
    "#-The double asterisk (**) operator is used to perform exponentiation. Exponentiation raises the first operand to the power of the second operand.\n",
    "2**3"
   ]
  },
  {
   "cell_type": "raw",
   "id": "fbef11ef-7e24-4faf-833f-bdea2b7ad54e",
   "metadata": {},
   "source": [
    "Q4. Create a list of length 10 of your choice containing multiple types of data. Using for loop print the\n",
    "element and its data type."
   ]
  },
  {
   "cell_type": "code",
   "execution_count": 25,
   "id": "d840ec77-6e28-4165-99f8-ab08129218aa",
   "metadata": {},
   "outputs": [
    {
     "name": "stdout",
     "output_type": "stream",
     "text": [
      "10 <class 'int'>\n",
      "13 <class 'int'>\n",
      "14 <class 'int'>\n",
      "18.9 <class 'float'>\n",
      "20.9 <class 'float'>\n",
      "Hello Sir <class 'str'>\n",
      "All well <class 'str'>\n",
      "(4+10j) <class 'complex'>\n",
      "True <class 'bool'>\n"
     ]
    }
   ],
   "source": [
    "l = [10,13,14,18.9, 20.9,'Hello Sir', 'All well', 4+10j, True]\n",
    "for element in l:\n",
    "    print(element, type(element))"
   ]
  },
  {
   "cell_type": "raw",
   "id": "f65c77ba-3238-4d4e-82a1-a123d1d473ba",
   "metadata": {},
   "source": [
    "Q5. Using a while loop, verify if the number A is purely divisible by number B and if so then how many\n",
    "times it can be divisible."
   ]
  },
  {
   "cell_type": "code",
   "execution_count": 2,
   "id": "74f36030-0269-4f99-bd60-5cccb5d3180a",
   "metadata": {},
   "outputs": [
    {
     "name": "stdin",
     "output_type": "stream",
     "text": [
      " 100\n",
      " 20\n"
     ]
    },
    {
     "name": "stdout",
     "output_type": "stream",
     "text": [
      "5\n"
     ]
    }
   ],
   "source": [
    "a= int(input())\n",
    "b= int(input())\n",
    "while a % b == 0:\n",
    "    print(a//b)\n",
    "    b += 1\n",
    "    if a % b == 0:\n",
    "        break"
   ]
  },
  {
   "cell_type": "raw",
   "id": "6c0c4c5b-cbd5-4b16-ac64-ee38fa33abb3",
   "metadata": {},
   "source": [
    "Q6. Create a list containing 25 int type data. Using for loop and if-else condition print if the element is\n",
    "divisible by 3 or not."
   ]
  },
  {
   "cell_type": "code",
   "execution_count": 10,
   "id": "23622808-c775-41f1-8ed6-095e78dc2103",
   "metadata": {},
   "outputs": [
    {
     "name": "stdout",
     "output_type": "stream",
     "text": [
      "the number 0 is divisible by 3\n",
      "the number 1 is not divisible by 3\n",
      "the number 2 is not divisible by 3\n",
      "the number 3 is divisible by 3\n",
      "the number 4 is not divisible by 3\n",
      "the number 5 is not divisible by 3\n",
      "the number 6 is divisible by 3\n",
      "the number 7 is not divisible by 3\n",
      "the number 8 is not divisible by 3\n",
      "the number 9 is divisible by 3\n",
      "the number 10 is not divisible by 3\n",
      "the number 11 is not divisible by 3\n",
      "the number 12 is divisible by 3\n",
      "the number 13 is not divisible by 3\n",
      "the number 14 is not divisible by 3\n",
      "the number 15 is divisible by 3\n",
      "the number 16 is not divisible by 3\n",
      "the number 17 is not divisible by 3\n",
      "the number 18 is divisible by 3\n",
      "the number 19 is not divisible by 3\n",
      "the number 20 is not divisible by 3\n",
      "the number 21 is divisible by 3\n",
      "the number 22 is not divisible by 3\n",
      "the number 23 is not divisible by 3\n",
      "the number 24 is divisible by 3\n",
      "the number 25 is not divisible by 3\n"
     ]
    }
   ],
   "source": [
    "List =list(range(26))\n",
    "for i in List:\n",
    "    if i%3==0:\n",
    "        print('the number',i,'is divisible by 3')\n",
    "    else:\n",
    "        print('the number',i,'is not divisible by 3')\n"
   ]
  },
  {
   "cell_type": "raw",
   "id": "b69666c1-3c8d-4ba7-9737-15e339889521",
   "metadata": {},
   "source": [
    "Q7. What do you understand about mutable and immutable data types? Give examples for both showing\n",
    "this property."
   ]
  },
  {
   "cell_type": "code",
   "execution_count": null,
   "id": "2789c2d8-e41c-40e0-9387-e9320d4d4a2d",
   "metadata": {},
   "outputs": [],
   "source": [
    "#Mutable data types are those whose values can be changed, while immutable data types are those whose values cannot be changed.\n",
    "#mutalble eg: list\n",
    "#immutalble eg: string"
   ]
  },
  {
   "cell_type": "code",
   "execution_count": 20,
   "id": "b835b5ec-4437-41c0-bc44-c9e9019edd48",
   "metadata": {},
   "outputs": [],
   "source": [
    "b[3]= 5"
   ]
  },
  {
   "cell_type": "code",
   "execution_count": 19,
   "id": "9d64ae62-c279-4491-8abb-e43b6dbad545",
   "metadata": {},
   "outputs": [
    {
     "name": "stdout",
     "output_type": "stream",
     "text": [
      "[0, 1, 2, 3, 4, 5, 6, 7, 8, 9]\n"
     ]
    }
   ],
   "source": [
    "b = list(range(10))\n",
    "print(b)"
   ]
  },
  {
   "cell_type": "code",
   "execution_count": 25,
   "id": "08a10d78-0010-4c84-b58a-36a330669cfc",
   "metadata": {},
   "outputs": [
    {
     "data": {
      "text/plain": [
       "[0, 1, 2, 5, 4, 5, 6, 7, 8, 9]"
      ]
     },
     "execution_count": 25,
     "metadata": {},
     "output_type": "execute_result"
    }
   ],
   "source": [
    "b"
   ]
  },
  {
   "cell_type": "code",
   "execution_count": 11,
   "id": "b9c9296d-fcce-4947-bff3-8b4ad1dafa5e",
   "metadata": {},
   "outputs": [],
   "source": [
    " a= \"hello world\""
   ]
  },
  {
   "cell_type": "code",
   "execution_count": 17,
   "id": "1feda290-4dbe-4e62-a650-1390fdb77c06",
   "metadata": {},
   "outputs": [
    {
     "ename": "TypeError",
     "evalue": "'str' object does not support item assignment",
     "output_type": "error",
     "traceback": [
      "\u001b[0;31m---------------------------------------------------------------------------\u001b[0m",
      "\u001b[0;31mTypeError\u001b[0m                                 Traceback (most recent call last)",
      "Cell \u001b[0;32mIn[17], line 1\u001b[0m\n\u001b[0;32m----> 1\u001b[0m \u001b[43ma\u001b[49m\u001b[43m[\u001b[49m\u001b[38;5;241;43m0\u001b[39;49m\u001b[43m:\u001b[49m\u001b[38;5;241;43m5\u001b[39;49m\u001b[43m]\u001b[49m\u001b[38;5;241m=\u001b[39m \u001b[38;5;124m\"\u001b[39m\u001b[38;5;124mHi\u001b[39m\u001b[38;5;124m\"\u001b[39m\n",
      "\u001b[0;31mTypeError\u001b[0m: 'str' object does not support item assignment"
     ]
    }
   ],
   "source": [
    "a[0:5]= \"Hi\""
   ]
  }
 ],
 "metadata": {
  "kernelspec": {
   "display_name": "Python 3 (ipykernel)",
   "language": "python",
   "name": "python3"
  },
  "language_info": {
   "codemirror_mode": {
    "name": "ipython",
    "version": 3
   },
   "file_extension": ".py",
   "mimetype": "text/x-python",
   "name": "python",
   "nbconvert_exporter": "python",
   "pygments_lexer": "ipython3",
   "version": "3.10.8"
  }
 },
 "nbformat": 4,
 "nbformat_minor": 5
}
